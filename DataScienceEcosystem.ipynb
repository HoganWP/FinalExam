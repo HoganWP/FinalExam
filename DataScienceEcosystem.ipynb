{
 "cells": [
  {
   "cell_type": "markdown",
   "id": "17a0b007-159b-4cea-b488-68b1b44265ab",
   "metadata": {},
   "source": [
    "# Data Science Tools and Ecosystem\n"
   ]
  },
  {
   "cell_type": "markdown",
   "id": "b04ac9dd-9094-4243-a8af-345d78fdeaf1",
   "metadata": {
    "tags": []
   },
   "source": [
    "In this notebook, Data Science Tools and Ecosystem are summarized.\n"
   ]
  },
  {
   "cell_type": "markdown",
   "id": "5d8fcc99-ea7c-4e04-843b-290f84674d35",
   "metadata": {},
   "source": [
    "**Objectives:**\n",
    "- Popular Languages\n",
    "- Commonly Used Libraries\n",
    "- Data Science Tools\n",
    "- Arithmetic Examples"
   ]
  },
  {
   "cell_type": "markdown",
   "id": "ce60d14b-ef79-476e-a4f1-c12bfc5de6d1",
   "metadata": {},
   "source": [
    "Some of the popular languages that Data Scientists use are:\n",
    "1. Python\n",
    "2. R\n",
    "3. SQL"
   ]
  },
  {
   "cell_type": "markdown",
   "id": "890666ac-1384-4a62-9603-95500f7c8d31",
   "metadata": {},
   "source": [
    "Some of the commonly used libraries used by Data Scientists include:\n",
    "1. Apache Spark\n",
    "2. R Libraries\n",
    "3. Scala Libraries\n",
    "4. Deep Learning Libraries"
   ]
  },
  {
   "cell_type": "markdown",
   "id": "980bc2bb-c029-4440-904b-983177d9f00a",
   "metadata": {},
   "source": [
    "| Data Science Tools |\n",
    "| ---------------- |\n",
    "| Model Asset eXchange |\n",
    "| Data Asset eXchnage |\n",
    "| RedHat |\n",
    "| OpenShift |\n"
   ]
  },
  {
   "cell_type": "markdown",
   "id": "dadc0266-f695-410f-8118-74c4526e5eb5",
   "metadata": {
    "tags": []
   },
   "source": [
    "### Below are a few examples of evaluating arithmetic expressions in Python"
   ]
  },
  {
   "cell_type": "code",
   "execution_count": 3,
   "id": "0ec1e591-99a5-4e2f-804d-c86a36b4b4e7",
   "metadata": {
    "tags": []
   },
   "outputs": [
    {
     "data": {
      "text/plain": [
       "17"
      ]
     },
     "execution_count": 3,
     "metadata": {},
     "output_type": "execute_result"
    }
   ],
   "source": [
    "# This a simple arithmetic expression to mutiply then add integers\n",
    "(3*4)+5"
   ]
  },
  {
   "cell_type": "code",
   "execution_count": 4,
   "id": "2c1e03cb-f707-4230-b82b-d747016b1bca",
   "metadata": {
    "tags": []
   },
   "outputs": [
    {
     "data": {
      "text/plain": [
       "3.3333333333333335"
      ]
     },
     "execution_count": 4,
     "metadata": {},
     "output_type": "execute_result"
    }
   ],
   "source": [
    "# This will convert 200 minutes to hours by diving by 60\n",
    "200/60\n"
   ]
  },
  {
   "cell_type": "markdown",
   "id": "1630fab4-c99b-4f26-a5bf-a0990a593197",
   "metadata": {},
   "source": [
    "## Author\n",
    "Will Hogan"
   ]
  },
  {
   "cell_type": "code",
   "execution_count": null,
   "id": "15ddf37a-cdc3-43b4-99ec-bcebfa075e85",
   "metadata": {},
   "outputs": [],
   "source": []
  }
 ],
 "metadata": {
  "kernelspec": {
   "display_name": "Python",
   "language": "python",
   "name": "conda-env-python-py"
  },
  "language_info": {
   "codemirror_mode": {
    "name": "ipython",
    "version": 3
   },
   "file_extension": ".py",
   "mimetype": "text/x-python",
   "name": "python",
   "nbconvert_exporter": "python",
   "pygments_lexer": "ipython3",
   "version": "3.7.12"
  }
 },
 "nbformat": 4,
 "nbformat_minor": 5
}
